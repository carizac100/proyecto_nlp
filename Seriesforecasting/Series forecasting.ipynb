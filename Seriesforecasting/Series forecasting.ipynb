{
 "cells": [
  {
   "cell_type": "code",
   "execution_count": 2,
   "metadata": {},
   "outputs": [
    {
     "name": "stdout",
     "output_type": "stream",
     "text": [
      "   Demand  Temperature   __index_level_0__\n",
      "0   3.794        18.05 2014-01-01 00:00:00\n",
      "1   3.418        17.20 2014-01-01 01:00:00\n",
      "2   3.152        16.45 2014-01-01 02:00:00\n",
      "3   3.026        16.65 2014-01-01 03:00:00\n",
      "4   3.022        16.40 2014-01-01 04:00:00\n",
      "<class 'pandas.core.frame.DataFrame'>\n",
      "RangeIndex: 1344 entries, 0 to 1343\n",
      "Data columns (total 3 columns):\n",
      " #   Column             Non-Null Count  Dtype         \n",
      "---  ------             --------------  -----         \n",
      " 0   Demand             1344 non-null   float64       \n",
      " 1   Temperature        1344 non-null   float64       \n",
      " 2   __index_level_0__  1344 non-null   datetime64[ns]\n",
      "dtypes: datetime64[ns](1), float64(2)\n",
      "memory usage: 31.6 KB\n",
      "None\n"
     ]
    }
   ],
   "source": [
    "from datasets import load_dataset\n",
    "import pandas as pd\n",
    "\n",
    "# Cargar el dataset desde Hugging Face\n",
    "dataset = load_dataset(\"rajistics/electricity_demand\")\n",
    "df = pd.DataFrame(dataset[\"train\"])\n",
    "\n",
    "# Revisar estructura\n",
    "print(df.head())\n",
    "print(df.info())\n"
   ]
  }
 ],
 "metadata": {
  "kernelspec": {
   "display_name": "venv_nlp",
   "language": "python",
   "name": "python3"
  },
  "language_info": {
   "codemirror_mode": {
    "name": "ipython",
    "version": 3
   },
   "file_extension": ".py",
   "mimetype": "text/x-python",
   "name": "python",
   "nbconvert_exporter": "python",
   "pygments_lexer": "ipython3",
   "version": "3.12.3"
  }
 },
 "nbformat": 4,
 "nbformat_minor": 2
}
